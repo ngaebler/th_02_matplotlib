{
 "cells": [
  {
   "cell_type": "markdown",
   "metadata": {},
   "source": [
    "# Übungsaufgaben\n",
    "\n",
    "\n",
    "# Aufgabe 1 Matplotlib\n",
    "\n",
    "1. Importieren Sie die für Matplotlib benötigten Bibliotheken\n",
    "2. Erstellen sie ein Plot 'Aufgabe' mit 3 verschiedenen Funktion mit dem Array b von 0 bis 10 in 0.5 Schritten\n",
    "    - eine Rote Linie \n",
    "    - blaue gestrichelte Funktion mit b zum Quadrat\n",
    "    - schwarze Punkte\n",
    "    - Beschriften Sie die Achsen\n",
    "3. Erstellen sie einen Boxplot mit einem 200 Werten, Mittelwert von 60, Std 10 "
   ]
  },
  {
   "cell_type": "markdown",
   "metadata": {},
   "source": [
    "# ??? Die Achsen womit beschriften -> dem Datensatz entsprechend oder einfach nur so \n"
   ]
  },
  {
   "cell_type": "markdown",
   "metadata": {},
   "source": [
    "# Aufgabe 2 Seaborn\n",
    "\n",
    "1. Importieren sie die für Seaborn benötigten Biblioteken \n",
    "2.  Lesen sie den Datensatz tips ein (von Seaborn schon gegeben) und gebben die ersten 5 Zeilen aus\n",
    "3. Erstellen Sie einen Boxplot mit x= day y= total bill und mit farblicher Unterscheidung zwischenden Zeiten(times) Mittagessen und Abendessen (tipp: hue).\n",
    "4. Erstellen sie mit den gleichen Bedingungen einen Violinplot"
   ]
  },
  {
   "cell_type": "code",
   "execution_count": 1,
   "metadata": {
    "collapsed": true
   },
   "outputs": [],
   "source": [
    "# Ansonsten verständlich geschrieben"
   ]
  },
  {
   "cell_type": "code",
   "execution_count": null,
   "metadata": {
    "collapsed": true
   },
   "outputs": [],
   "source": []
  }
 ],
 "metadata": {
  "kernelspec": {
   "display_name": "Python 3",
   "language": "python",
   "name": "python3"
  },
  "language_info": {
   "codemirror_mode": {
    "name": "ipython",
    "version": 3
   },
   "file_extension": ".py",
   "mimetype": "text/x-python",
   "name": "python",
   "nbconvert_exporter": "python",
   "pygments_lexer": "ipython3",
   "version": "3.6.2"
  }
 },
 "nbformat": 4,
 "nbformat_minor": 2
}
